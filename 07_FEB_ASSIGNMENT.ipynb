{
 "cells": [
  {
   "cell_type": "markdown",
   "id": "214697cc",
   "metadata": {},
   "source": [
    "## 07_FEB_ASSIGNMENT"
   ]
  },
  {
   "cell_type": "markdown",
   "id": "259ad087",
   "metadata": {},
   "source": [
    "## PWSKILLS ASSIGNMENT - 8"
   ]
  },
  {
   "cell_type": "markdown",
   "id": "eec99dbd",
   "metadata": {},
   "source": [
    "#### 1. You are writing code for a company. The requirement of the company is that you create a python function that will check<br>\n",
    "#### whether the password entered by the user is correct or not. The function should take the password as input and return the string<br>\n",
    "#### “Valid Password” if the entered password follows the below-given password guidelines else it should return “Invalid Password”.<br>\n",
    "#### Note:<br> \n",
    "####        1. The Password should contain at least two uppercase letters and at least two lowercase letters.<br>\n",
    "####        2.The Password should contain at least a number and three special characters.<br>\n",
    "####        3.The length of the password should be 10 characters long."
   ]
  },
  {
   "cell_type": "code",
   "execution_count": 2,
   "id": "1ad5a3ce",
   "metadata": {},
   "outputs": [
    {
     "name": "stdout",
     "output_type": "stream",
     "text": [
      "hello@data\n",
      "Invalid Password\n"
     ]
    }
   ],
   "source": [
    "def valid_password(password):\n",
    "    spe_sym =['$', '@', '#', '%']\n",
    "    l=True\n",
    "    c,m,j,k=0,0,0,0\n",
    "    for i in password:\n",
    "        if len(password)!=10:\n",
    "            l=False\n",
    "        if i.isupper():\n",
    "            c+=1\n",
    "        if i.islower():\n",
    "            m+=1\n",
    "        if i.isnumeric():\n",
    "            j+=1\n",
    "        if i in spe_sym:\n",
    "            k+=1\n",
    "        else:\n",
    "            continue\n",
    "    if l and (c>=2 and m>=2 and j>=1 and k==3):\n",
    "        return \"Valid Password\"\n",
    "    else:\n",
    "        return \"Invalid Password\"\n",
    "        \n",
    "s=input()\n",
    "print(valid_password(s))\n"
   ]
  },
  {
   "cell_type": "markdown",
   "id": "dd2e45b5",
   "metadata": {},
   "source": [
    "#### 2.Solve the below-given questions using at least one of the following:<br>\n",
    "####   1. Lambda function<br>\n",
    "####   2.Filter function<br>\n",
    "####   3.Map function<br>\n",
    "####   4. List Comprehension<br>\n",
    "####    *Check if the string starts with a particular letter<br>\n",
    "####     *Check if the string is numeric<br>\n",
    "####     *Sort a list of tuples having fruit names and their quantity. [(\"mango\",99),(\"orange\",80), (\"grapes\", 1000)]<br>\n",
    "####     *Find the squares of numbers from 1 to 10<br>\n",
    "####     *Find the cube root of numbers from 1 to 10<br>\n",
    "####     *Check if a given number is even<br>\n",
    "####     *Filter odd numbers from the given list. [1,2,3,4,5,6,7,8,9,10]<br>\n",
    "####     *Sort a list of integers into positive and negative integers lists. [1,2,3,4,5,6,-1,-2,-3,-4,-5,0]<br>"
   ]
  },
  {
   "cell_type": "code",
   "execution_count": 1,
   "id": "1e70a87f",
   "metadata": {},
   "outputs": [
    {
     "name": "stdout",
     "output_type": "stream",
     "text": [
      "amigos\n",
      "True\n"
     ]
    }
   ],
   "source": [
    "stat=input()\n",
    "k=[print(\"True\") if stat.startswith(\"a\") else print(\"False\")]"
   ]
  },
  {
   "cell_type": "code",
   "execution_count": 2,
   "id": "61f42325",
   "metadata": {},
   "outputs": [
    {
     "name": "stdout",
     "output_type": "stream",
     "text": [
      "hello\n",
      "False\n"
     ]
    }
   ],
   "source": [
    "stat=input()\n",
    "k=[print(\"True\") if stat.isnumeric() else print(\"False\")]"
   ]
  },
  {
   "cell_type": "code",
   "execution_count": 3,
   "id": "4ac4629e",
   "metadata": {},
   "outputs": [
    {
     "name": "stdout",
     "output_type": "stream",
     "text": [
      "[('orange', 80), ('mango', 99), ('grapes', 1000)]\n"
     ]
    }
   ],
   "source": [
    "lst= [(\"mango\",99),(\"orange\",80), (\"grapes\", 1000)]\n",
    "lst.sort(key = lambda x: x[1])\n",
    "print(lst)"
   ]
  },
  {
   "cell_type": "code",
   "execution_count": 4,
   "id": "408fd537",
   "metadata": {},
   "outputs": [
    {
     "name": "stdout",
     "output_type": "stream",
     "text": [
      "[1, 4, 9, 16, 25, 36, 49, 64, 81, 100]\n"
     ]
    }
   ],
   "source": [
    "lst=[i for i in range(1,11)]\n",
    "k=list(map(lambda x:x**2 ,lst))\n",
    "print(k)"
   ]
  },
  {
   "cell_type": "code",
   "execution_count": 5,
   "id": "cea6479b",
   "metadata": {},
   "outputs": [
    {
     "name": "stdout",
     "output_type": "stream",
     "text": [
      "[1, 8, 27, 64, 125, 216, 343, 512, 729, 1000]\n"
     ]
    }
   ],
   "source": [
    "lst=[i for i in range(1,11)]\n",
    "k=list(map(lambda x:x**3 ,lst))\n",
    "print(k)"
   ]
  },
  {
   "cell_type": "code",
   "execution_count": 6,
   "id": "af4e4a06",
   "metadata": {},
   "outputs": [
    {
     "name": "stdout",
     "output_type": "stream",
     "text": [
      "25\n"
     ]
    },
    {
     "data": {
      "text/plain": [
       "False"
      ]
     },
     "execution_count": 6,
     "metadata": {},
     "output_type": "execute_result"
    }
   ],
   "source": [
    "num=int(input())\n",
    "s=lambda num:num%2==0\n",
    "s(num)"
   ]
  },
  {
   "cell_type": "code",
   "execution_count": 7,
   "id": "d470b3b7",
   "metadata": {},
   "outputs": [
    {
     "name": "stdout",
     "output_type": "stream",
     "text": [
      "[1, 3, 5, 7, 9]\n"
     ]
    }
   ],
   "source": [
    "lst=[1,2,3,4,5,6,7,8,9,10]\n",
    "k=list(filter(lambda x:x%2!=0,lst))\n",
    "print(k)"
   ]
  },
  {
   "cell_type": "code",
   "execution_count": 8,
   "id": "3f15627f",
   "metadata": {},
   "outputs": [
    {
     "name": "stdout",
     "output_type": "stream",
     "text": [
      "[0, 1, 2, 3, 4, 5, 6]\n",
      "[-5, -4, -3, -2, -1]\n"
     ]
    }
   ],
   "source": [
    "lst=[1,2,3,4,5,6,-1,-2,-3,-4,-5,0]\n",
    "lst=sorted(lst)\n",
    "\n",
    "pos=list(filter(lambda x:x>=0 ,lst))\n",
    "neg=list(filter(lambda x:x<0 ,lst))\n",
    "pos.sort()\n",
    "neg.sort()\n",
    "print(pos)\n",
    "print(neg)"
   ]
  }
 ],
 "metadata": {
  "kernelspec": {
   "display_name": "Python 3 (ipykernel)",
   "language": "python",
   "name": "python3"
  },
  "language_info": {
   "codemirror_mode": {
    "name": "ipython",
    "version": 3
   },
   "file_extension": ".py",
   "mimetype": "text/x-python",
   "name": "python",
   "nbconvert_exporter": "python",
   "pygments_lexer": "ipython3",
   "version": "3.9.12"
  }
 },
 "nbformat": 4,
 "nbformat_minor": 5
}
