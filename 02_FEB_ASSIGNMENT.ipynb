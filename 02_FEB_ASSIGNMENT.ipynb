{
 "cells": [
  {
   "cell_type": "markdown",
   "id": "55094eeb",
   "metadata": {},
   "source": [
    "## 02_FEB_ASSIGNMENT"
   ]
  },
  {
   "cell_type": "markdown",
   "id": "45fe58f7",
   "metadata": {},
   "source": [
    "### PWSKILLS ASSIGNMENT 3"
   ]
  },
  {
   "cell_type": "markdown",
   "id": "b52ecb51",
   "metadata": {},
   "source": [
    "#### 1. What are the characteristics of the tuples ? Is tuple immutable ?"
   ]
  },
  {
   "cell_type": "markdown",
   "id": "502fe0b5",
   "metadata": {},
   "source": [
    "The tuples are an ordered collection of elements of different data types.<br> \n",
    "Furthermore, we represent them by writing the elements inside the parenthesis separated by commas.<br>\n",
    "We can also define tuples as lists that we cannot change.<br> Therefore, we can call them immutable tuples."
   ]
  },
  {
   "cell_type": "markdown",
   "id": "13cb213c",
   "metadata": {},
   "source": [
    "#### 2 .What are the two tuple methods in python? Give an example of each method. Give a reason why\n",
    "#### tuples have only two in-built methods as compared to Lists."
   ]
  },
  {
   "cell_type": "markdown",
   "id": "ce5eee18",
   "metadata": {},
   "source": [
    "There are only two tuple methods count() and index() that a tuple object can call.\n",
    "Tuple is immutable unlike list.So there are only two methods.\n",
    "thistuple = (1, 3, 7, 8, 7, 5, 4, 6, 8, 5)\n",
    "\n",
    "x = thistuple.count(5)\n",
    "\n",
    "print(x)\n",
    "thistuple = (1, 3, 7, 8, 7, 5, 4, 6, 8, 5)\n",
    "\n",
    "x = thistuple.index(8)\n",
    "\n",
    "print(x)"
   ]
  },
  {
   "cell_type": "markdown",
   "id": "cc4707d5",
   "metadata": {},
   "source": [
    "#### 3. Which collection datatypes in python do not allow duplicate items? Write a code using a set to remove\n",
    "#### duplicates from the given list."
   ]
  },
  {
   "cell_type": "markdown",
   "id": "c41dc64c",
   "metadata": {},
   "source": [
    " Sets are a collection that is unordered and unindexed. \n",
    "They are mutable (changeable) but do not allow duplicate values to be held."
   ]
  },
  {
   "cell_type": "markdown",
   "id": "fb680e48",
   "metadata": {},
   "source": [
    "List = [1, 1, 1, 2, 1, 3, 1, 4, 2, 1, 2, 2, 2, 3, 2, 4, 3, 1, 3, 2, 3, 3, 3, 4, 4, 1, 4, 2, 4, 3, 4, 4]<br>\n",
    "l1=set(List)<br>\n",
    "print(list(l1))"
   ]
  },
  {
   "cell_type": "markdown",
   "id": "ee0b8350",
   "metadata": {},
   "source": [
    "#### 4. Explain the difference between the union() and update() methods for a set. Give an example of\n",
    "#### each method."
   ]
  },
  {
   "cell_type": "markdown",
   "id": "0912df32",
   "metadata": {},
   "source": [
    " It is very similar to union () method, with difference is that where union () method create and return a new set,<br>\n",
    "containing all the elements (distinct) present in all the iterables, update () method updates the set on which this<br>\n",
    "method is called with all the distinct elements present in all the iterables."
   ]
  },
  {
   "cell_type": "code",
   "execution_count": 1,
   "id": "5a6ce305",
   "metadata": {},
   "outputs": [
    {
     "name": "stdout",
     "output_type": "stream",
     "text": [
      "A :  {11, 12, 13, 14, 15}\n",
      "B :  {16, 17, 18, 19, 14, 15}\n",
      "A Union B :  {11, 12, 13, 14, 15, 16, 17, 18, 19}\n"
     ]
    }
   ],
   "source": [
    "# Python Set Union\n",
    "# create set object and assign it to variable A\n",
    "A = {11,12,13,14,15}\n",
    "\n",
    "# create set object and assign it to variable B\n",
    "B = {14,15,16,17,18,19}\n",
    "\n",
    "# call union method to get union of set A and B and assign it to variable S\n",
    "S = A.union(B)\n",
    "\n",
    "# print all the values of set A, B and S\n",
    "print('A : ',A)\n",
    "print('B : ',B)\n",
    "print('A Union B : ',S)"
   ]
  },
  {
   "cell_type": "code",
   "execution_count": 2,
   "id": "3cfe7811",
   "metadata": {},
   "outputs": [
    {
     "name": "stdout",
     "output_type": "stream",
     "text": [
      "A Union B :  {11, 12, 13, 14, 15, 16, 17, 18, 19}\n",
      "A Union B Union L :  {11, 12, 13, 14, 15, 16, 17, 18, 19}\n"
     ]
    }
   ],
   "source": [
    "# Python Set Union\n",
    "# create set object and assign it to variable A\n",
    "A = {11,12,13,14,15}\n",
    "\n",
    "# create set object and assign it to variable B\n",
    "B = {14,15,16,17,18,19}\n",
    "\n",
    "# call update method to get union of set A and B by updating set A\n",
    "A.update(B)\n",
    "\n",
    "# print all the values of set A\n",
    "print('A Union B : ',A)\n",
    "\n",
    "# create list object and assign it to variable L\n",
    "L = [11,12,13,14,15]\n",
    "\n",
    "# call update method to get union of set A, B and list L by updating set A\n",
    "A.update(B,L)\n",
    "\n",
    "# print all the values of set A\n",
    "print('A Union B Union L : ',A)"
   ]
  },
  {
   "cell_type": "markdown",
   "id": "cda8b9f3",
   "metadata": {},
   "source": [
    "#### 5. What is a dictionary? Give an example. Also, state whether a dictionary is ordered or unordered."
   ]
  },
  {
   "cell_type": "markdown",
   "id": "a2bc8864",
   "metadata": {},
   "source": [
    "Dictionaries are used to store data values in key:value pairs.\n",
    "\n",
    "A dictionary is a collection which is ordered*, changeable and do not allow duplicates.\n",
    "\n",
    "Dictionaries are written with curly brackets, and have keys and values: When we say that dictionaries are ordered, it means that the items have a defined order, and that order will not change.\n",
    "\n",
    "Unordered means that the items does not have a defined order, you cannot refer to an item by using an index."
   ]
  },
  {
   "cell_type": "code",
   "execution_count": 3,
   "id": "f0034d81",
   "metadata": {},
   "outputs": [
    {
     "name": "stdout",
     "output_type": "stream",
     "text": [
      "{'name': 'Ikigai', 'author': 'Stefen', 'year': 2022}\n",
      "Ikigai\n",
      "Stefen\n",
      "2022\n"
     ]
    }
   ],
   "source": [
    "d = {\n",
    "  \"name\": \"Ikigai\",\n",
    "  \"author\": \"Stefen\",\n",
    "  \"year\": 2022\n",
    "}\n",
    "print(d)\n",
    "print(d[\"name\"])\n",
    "print(d[\"author\"])\n",
    "print(d[\"year\"])"
   ]
  },
  {
   "cell_type": "markdown",
   "id": "8bafb848",
   "metadata": {},
   "source": [
    "#### 6.Can we create a nested dictionary? If so, please give an example by creating a simple one-level nested dictionary."
   ]
  },
  {
   "cell_type": "markdown",
   "id": "47c90973",
   "metadata": {},
   "source": [
    " A nested dictionary is a dictionary inside a dictionary.<br> \n",
    "It's a collection of dictionaries into one single dictionary.<br>\n",
    "nested_dict = { 'dictA': {'key_1': 'value_1'}, 'dictB': {'key_2': 'value_2'}} \n",
    "Here, the nested_dict is a nested dictionary with the dictionary dictA and dictB.\n",
    "They are two dictionary each having own key and value."
   ]
  },
  {
   "cell_type": "code",
   "execution_count": 4,
   "id": "aa1bcaee",
   "metadata": {},
   "outputs": [
    {
     "name": "stdout",
     "output_type": "stream",
     "text": [
      "John wick\n",
      "35\n",
      "Male\n"
     ]
    }
   ],
   "source": [
    "people = {1: {'name': 'John wick', 'age': '35', 'sex': 'Male'},\n",
    "          2: {'name': 'Munroe', 'age': '28', 'sex': 'Female'}}\n",
    "\n",
    "print(people[1]['name'])\n",
    "print(people[1]['age'])\n",
    "print(people[1]['sex'])\n",
    "people = {1: {'name': 'John wick', 'age': '35', 'sex': 'Male'},\n",
    "          2: {'name': 'Munroe', 'age': '28', 'sex': 'Female'}}\n",
    "\n",
    "people[3] = {}\n",
    "\n",
    "people[3]['name'] = 'Luna'\n",
    "people[3]['age'] = '24'\n",
    "people[3]['sex'] = 'Female'\n",
    "people[3]['married'] = 'No'"
   ]
  },
  {
   "cell_type": "markdown",
   "id": "af9aaa7d",
   "metadata": {},
   "source": [
    "#### 7. Using setdefault() method, create key named topics in the given dictionary and also add the value of\n",
    "#### the key as this list ['Python', 'Machine Learning’, 'Deep Learning']"
   ]
  },
  {
   "cell_type": "markdown",
   "id": "ee6c4a6e",
   "metadata": {},
   "source": [
    "The setdefault() method returns the value of the item with the specified key.\n",
    "\n",
    "If the key does not exist, insert the key, with the specified value"
   ]
  },
  {
   "cell_type": "code",
   "execution_count": 5,
   "id": "c3bb6beb",
   "metadata": {},
   "outputs": [
    {
     "name": "stdout",
     "output_type": "stream",
     "text": [
      "{'language': 'Python', 'course': 'Data Science Masters', 'topics': ['Python', 'Machine Learning’, \"Deep Learning']}\n"
     ]
    }
   ],
   "source": [
    "\n",
    "dict1 = {'language' : 'Python', 'course': 'Data Science Masters'}\n",
    "dict1.setdefault(\"topics\",['Python', 'Machine Learning’, \"Deep Learning'])\n",
    "print(dict1)"
   ]
  },
  {
   "cell_type": "markdown",
   "id": "48f25d3e",
   "metadata": {},
   "source": [
    "#### What are the three view objects in dictionaries? Use the three in-built methods in python to display\n",
    "#### these three view objects for the given dictionary.\n"
   ]
  },
  {
   "cell_type": "code",
   "execution_count": 6,
   "id": "98300d6f",
   "metadata": {},
   "outputs": [],
   "source": [
    "dict1 = {'Sport': 'Cricket' , 'Teams': ['India', 'Australia', 'England', 'South Africa', 'Sri Lanka', 'New Zealand']}"
   ]
  },
  {
   "cell_type": "code",
   "execution_count": 7,
   "id": "00a36bc8",
   "metadata": {},
   "outputs": [
    {
     "name": "stdout",
     "output_type": "stream",
     "text": [
      "dict_keys(['Sport', 'Teams'])\n",
      "dict_values(['Cricket', ['India', 'Australia', 'England', 'South Africa', 'Sri Lanka', 'New Zealand']])\n",
      "dict_items([('Sport', 'Cricket'), ('Teams', ['India', 'Australia', 'England', 'South Africa', 'Sri Lanka', 'New Zealand'])])\n"
     ]
    }
   ],
   "source": [
    "print(dict1.keys())\n",
    "print(dict1.values())\n",
    "print(dict1.items())"
   ]
  },
  {
   "cell_type": "code",
   "execution_count": null,
   "id": "6c14a8fd",
   "metadata": {},
   "outputs": [],
   "source": []
  }
 ],
 "metadata": {
  "kernelspec": {
   "display_name": "Python 3 (ipykernel)",
   "language": "python",
   "name": "python3"
  },
  "language_info": {
   "codemirror_mode": {
    "name": "ipython",
    "version": 3
   },
   "file_extension": ".py",
   "mimetype": "text/x-python",
   "name": "python",
   "nbconvert_exporter": "python",
   "pygments_lexer": "ipython3",
   "version": "3.9.12"
  }
 },
 "nbformat": 4,
 "nbformat_minor": 5
}
