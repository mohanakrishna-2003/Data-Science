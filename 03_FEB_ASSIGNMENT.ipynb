{
 "cells": [
  {
   "cell_type": "markdown",
   "id": "447a2c12",
   "metadata": {},
   "source": [
    "## 03_FEB_ASSIGNMENT"
   ]
  },
  {
   "cell_type": "markdown",
   "id": "75c3d802",
   "metadata": {},
   "source": [
    "## PWSKILLS ASSIGNMENT - 4"
   ]
  },
  {
   "cell_type": "markdown",
   "id": "e1d97f79",
   "metadata": {},
   "source": [
    "#### 1. Which keyword is used to create a function? Create a function to return a list of odd numbers in the\n",
    "#### range of 1 to 25."
   ]
  },
  {
   "cell_type": "markdown",
   "id": "6ac25843",
   "metadata": {},
   "source": [
    "def keyword is used to define or create a function."
   ]
  },
  {
   "cell_type": "code",
   "execution_count": 3,
   "id": "14b609a6",
   "metadata": {},
   "outputs": [],
   "source": [
    "def odd(l,r):\n",
    "    lst=[]\n",
    "    for i in range(l,r+1):\n",
    "        if i%2!=0:\n",
    "            lst.append(i)\n",
    "    return lst"
   ]
  },
  {
   "cell_type": "code",
   "execution_count": 4,
   "id": "e2f12e02",
   "metadata": {},
   "outputs": [
    {
     "data": {
      "text/plain": [
       "[1, 3, 5, 7, 9, 11, 13, 15, 17, 19, 21, 23, 25]"
      ]
     },
     "execution_count": 4,
     "metadata": {},
     "output_type": "execute_result"
    }
   ],
   "source": [
    "odd(1,25)"
   ]
  },
  {
   "cell_type": "markdown",
   "id": "bbef6e32",
   "metadata": {},
   "source": [
    "#### 2. Why *args and **kwargs is used in some functions? Create a function each for *args and **kwargs to\n",
    "#### demonstrate their use."
   ]
  },
  {
   "cell_type": "markdown",
   "id": "d00f3e02",
   "metadata": {},
   "source": [
    "The special syntax *args in function definitions in python is used to pass a variable number of arguments to a function.<br>\n",
    "It is used to pass a non-key worded, variable-length argument list.\n",
    "The syntax is to use the symbol * to take in a variable number of arguments; by convention, it is often used with the word args.<br>\n",
    "What *args allows you to do is take in more arguments than the number of formal arguments that you previously defined.<br>\n",
    "With *args, any number of extra arguments can be tacked on to your current formal parameters (including zero extra arguments).<br>\n",
    "For example, we want to make a multiply function that takes any number of arguments and is able to multiply them all together.<br>\n",
    "It can be done using *args. Using the *, the variable that we associate with the * becomes an iterable meaning you can do<br>\n",
    "things like iterate over it, run some higher-order functions such as map and filter, etc."
   ]
  },
  {
   "cell_type": "code",
   "execution_count": 5,
   "id": "27911e8f",
   "metadata": {},
   "outputs": [
    {
     "name": "stdout",
     "output_type": "stream",
     "text": [
      "machine learning\n",
      "computer vision\n",
      "natural language processing\n",
      "Artificial intelligence\n"
     ]
    }
   ],
   "source": [
    "def myFun(*argv):\n",
    "    for arg in argv:\n",
    "        print(arg)\n",
    " \n",
    " \n",
    "myFun('machine learning', 'computer vision', 'natural language processing', 'Artificial intelligence')"
   ]
  },
  {
   "cell_type": "markdown",
   "id": "93df9bad",
   "metadata": {},
   "source": [
    "The special syntax **kwargs in function definitions in python is used to pass a keyworded, variable-length argument list.<br>\n",
    "We use the name kwargs with the double star. The reason is that the double star allows us to pass through keyword arguments<br>\n",
    "(and any number of them).\n",
    "A keyword argument is where you provide a name to the variable as you pass it into the function. One can think of the kwargs<br>\n",
    "as being a dictionary that maps each keyword to the value that we pass alongside it. That is why when we iterate over the <br>\n",
    "kwargs there doesn’t seem to be any order in which they were printed out."
   ]
  },
  {
   "cell_type": "code",
   "execution_count": 7,
   "id": "addb3db3",
   "metadata": {},
   "outputs": [
    {
     "name": "stdout",
     "output_type": "stream",
     "text": [
      "first == Hello\n",
      "mid == Mello\n",
      "last == Hello\n"
     ]
    }
   ],
   "source": [
    "def myFun(**kwargs):\n",
    "    for key, value in kwargs.items():\n",
    "        print(\"%s == %s\" % (key, value))\n",
    "myFun(first='Hello', mid='Mello', last='Hello')"
   ]
  },
  {
   "cell_type": "markdown",
   "id": "5d6ac6ab",
   "metadata": {},
   "source": [
    "#### What is an iterator in python? Name the method used to initialise the iterator object and the method\n",
    "#### used for iteration. Use these methods to print the first five elements of the given list [2, 4, 6, 8, 10, 12, 14, 16,\n",
    "#### 18, 20]."
   ]
  },
  {
   "cell_type": "markdown",
   "id": "2189ef2f",
   "metadata": {},
   "source": [
    "Iterator in Python is an object that is used to iterate over iterable objects like lists, tuples, dicts, and sets.<br>\n",
    "The iterator object is initialized using the iter() method. It uses the next() method for iteration. <br>\n",
    "iter(): The iter() method is called for the initialization of an iterator. This returns an iterator object next(): The next method returns the next value for the iterable. When we use a for loop to traverse any iterable object, internally it uses the iter() method to get an iterator object, which further uses the next() method to iterate over.<br>\n",
    "This method raises a StopIteration to signal the end of the iteration."
   ]
  },
  {
   "cell_type": "code",
   "execution_count": 8,
   "id": "a935cb54",
   "metadata": {},
   "outputs": [
    {
     "name": "stdout",
     "output_type": "stream",
     "text": [
      "2\n",
      "4\n",
      "6\n",
      "8\n",
      "10\n"
     ]
    }
   ],
   "source": [
    "my_list= [2, 4, 6, 8, 10, 12, 14, 16,18,20]\n",
    "my_iter = iter(my_list)\n",
    "\n",
    "# iterate through it using next()\n",
    "print(next(my_iter))   # Output: 1\n",
    "print(next(my_iter))   # Output: 2\n",
    "\n",
    "# This is same as next(obj)\n",
    "print(my_iter.__next__())   # Output: 3\n",
    "print(my_iter.__next__())   # Output: Numbers\n",
    "print(my_iter.__next__())   \n",
    "# This will raise error since no items left in the list to be iterated"
   ]
  },
  {
   "cell_type": "markdown",
   "id": "fcf5b1e0",
   "metadata": {},
   "source": [
    "#### 4. What is a generator function in python? Why yield keyword is used? Give an example of a generator\n",
    "#### function."
   ]
  },
  {
   "cell_type": "markdown",
   "id": "23984ae9",
   "metadata": {},
   "source": [
    "A generator is a special type of function which does not return a single value, instead, it returns an iterator object with a sequence of values.<br>\n",
    "In a generator function, a yield statement is used rather than a return statement.<br>\n",
    "The following is a simple generator function. ield is a keyword in Python that is used to return from a function without destroying the states <br>\n",
    "of its local variable and when the function is called, the execution starts from the last yield statement.<br>\n",
    "Any function that contains a yield keyword is termed a generator. Hence, yield is what makes a generator.<br>"
   ]
  },
  {
   "cell_type": "code",
   "execution_count": 10,
   "id": "aaa28cfe",
   "metadata": {},
   "outputs": [
    {
     "name": "stdout",
     "output_type": "stream",
     "text": [
      "55\n"
     ]
    }
   ],
   "source": [
    "def square(nums):\n",
    "    for num in nums:\n",
    "        yield num**2\n",
    "        \n",
    "print(sum(square([1,2,3,4,5])))"
   ]
  },
  {
   "cell_type": "markdown",
   "id": "451138a1",
   "metadata": {},
   "source": [
    "#### 5. Create a generator function for prime numbers less than 1000. Use the next() method to print the\n",
    "#### first 20 prime numbers."
   ]
  },
  {
   "cell_type": "code",
   "execution_count": 11,
   "id": "67ca2d1f",
   "metadata": {},
   "outputs": [
    {
     "name": "stdout",
     "output_type": "stream",
     "text": [
      "2\n",
      "3\n",
      "5\n",
      "7\n",
      "11\n",
      "13\n",
      "17\n",
      "19\n",
      "23\n",
      "29\n",
      "31\n",
      "37\n",
      "41\n",
      "43\n",
      "47\n",
      "53\n",
      "59\n",
      "61\n",
      "67\n",
      "71\n"
     ]
    }
   ],
   "source": [
    "def primes():\n",
    "    \"\"\"Create a generator function for prime numbers less than 1000.\"\"\"\n",
    "    yield 2\n",
    "    primes_list = [2]\n",
    "    for i in range(3, 1000):\n",
    "        is_prime = True\n",
    "        for prime in primes_list:\n",
    "            if i % prime == 0:\n",
    "                is_prime = False\n",
    "                break\n",
    "        if is_prime:\n",
    "            primes_list.append(i)\n",
    "            yield i\n",
    "\n",
    "prime_gen = primes()\n",
    "# the next() method to print the first 20 prime numbers.\n",
    "for i in range(20):\n",
    "    print(next(prime_gen))"
   ]
  },
  {
   "cell_type": "code",
   "execution_count": null,
   "id": "0984e486",
   "metadata": {},
   "outputs": [],
   "source": []
  }
 ],
 "metadata": {
  "kernelspec": {
   "display_name": "Python 3 (ipykernel)",
   "language": "python",
   "name": "python3"
  },
  "language_info": {
   "codemirror_mode": {
    "name": "ipython",
    "version": 3
   },
   "file_extension": ".py",
   "mimetype": "text/x-python",
   "name": "python",
   "nbconvert_exporter": "python",
   "pygments_lexer": "ipython3",
   "version": "3.9.12"
  }
 },
 "nbformat": 4,
 "nbformat_minor": 5
}
