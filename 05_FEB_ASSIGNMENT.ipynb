{
 "cells": [
  {
   "cell_type": "markdown",
   "id": "79eb1b14",
   "metadata": {},
   "source": [
    "## 05_FEB_ASSIGNMENT"
   ]
  },
  {
   "cell_type": "markdown",
   "id": "747f9e7d",
   "metadata": {},
   "source": [
    "## PWSKILLS ASSIGNMENT 6"
   ]
  },
  {
   "cell_type": "markdown",
   "id": "17d573a3",
   "metadata": {},
   "source": [
    "#### Q1. Explain Class and Object with respect to Object-Oriented Programming. Give a suitable example."
   ]
  },
  {
   "cell_type": "markdown",
   "id": "45039501",
   "metadata": {},
   "source": [
    "class: A class is considered as a blueprint of objects. We can think of the class as a sketch (prototype) of a house.<br>\n",
    "It contains all the details about the floors, doors, windows, etc. Based on these descriptions we build the house.<br>\n",
    "House is the object.Since many houses can be made from the same description, we can create many objects from a class.<br>\n",
    "objects: An object is called an instance of a class. For example, suppose Bike is a class then we can create objects like bike1,<br>\n",
    "bike2, etc from the class."
   ]
  },
  {
   "cell_type": "code",
   "execution_count": 2,
   "id": "358287d4",
   "metadata": {},
   "outputs": [],
   "source": [
    "class Book:\n",
    "    name=\"\"\n",
    "    author=\"\""
   ]
  },
  {
   "cell_type": "code",
   "execution_count": null,
   "id": "9e9feaf7",
   "metadata": {},
   "outputs": [],
   "source": [
    "# create class\n",
    "class Book:\n",
    "    name = \"\"\n",
    "    author = \"\"\n",
    "\n",
    "# create objects of class\n",
    "book1 = Book()"
   ]
  },
  {
   "cell_type": "code",
   "execution_count": 4,
   "id": "c1453398",
   "metadata": {},
   "outputs": [
    {
     "name": "stdout",
     "output_type": "stream",
     "text": [
      "Name: ikigai, Author: stefan \n"
     ]
    }
   ],
   "source": [
    "# define a class\n",
    "class Book:\n",
    "    name = \"\"\n",
    "    author= \"\"\n",
    "\n",
    "# create object of class\n",
    "book = Book()\n",
    "\n",
    "# access attributes and assign new values\n",
    "book.name = \"ikigai\"\n",
    "book.author = \"stefan\"\n",
    "\n",
    "print(f\"Name: {book.name}, Author: {book.author} \")"
   ]
  },
  {
   "cell_type": "markdown",
   "id": "68a0752a",
   "metadata": {},
   "source": [
    "#### Q2. Name the four pillars of OOPs."
   ]
  },
  {
   "cell_type": "markdown",
   "id": "c6770163",
   "metadata": {},
   "source": [
    "There are four pillars been here in OOPS which are listed below. These concepts aim to implement real-world entities in programs.<br>\n",
    "     1. Abstraction<br> \n",
    "     2. Encapsulation<br>\n",
    "     3. Inheritance<br> \n",
    "     4. Polymorphism<br>"
   ]
  },
  {
   "cell_type": "markdown",
   "id": "485018ec",
   "metadata": {},
   "source": [
    "#### Q3. Explain why the __init__() function is used. Give a suitable example."
   ]
  },
  {
   "cell_type": "markdown",
   "id": "ce9c0913",
   "metadata": {},
   "source": [
    "All classes have a function called init (), which is always executed when the class is being initiated. <br>\n",
    "Use the init () function to assign values to object properties, or other operations that are necessary to do when the object is<br>\n",
    "being created:"
   ]
  },
  {
   "cell_type": "code",
   "execution_count": 5,
   "id": "7b09bb74",
   "metadata": {},
   "outputs": [
    {
     "name": "stdout",
     "output_type": "stream",
     "text": [
      "John wick\n",
      "52\n"
     ]
    }
   ],
   "source": [
    "class Person:\n",
    "  def __init__(self, name, age):\n",
    "    self.name = name\n",
    "    self.age = age\n",
    "\n",
    "p = Person(\"John wick\", 52)\n",
    "\n",
    "print(p.name)\n",
    "print(p.age)\n"
   ]
  },
  {
   "cell_type": "markdown",
   "id": "10617f45",
   "metadata": {},
   "source": [
    "#### Q4. Why self is used in OOPs?"
   ]
  },
  {
   "cell_type": "markdown",
   "id": "5ca5e548",
   "metadata": {},
   "source": [
    "\" self \" is the instance object automatically passed to the class instance's method when called, to identify the instance that<br>\n",
    "called it. \" self \" is used to access other attributes or methods of the object from inside the method."
   ]
  },
  {
   "cell_type": "code",
   "execution_count": 6,
   "id": "08fab8e7",
   "metadata": {},
   "outputs": [
    {
     "name": "stdout",
     "output_type": "stream",
     "text": [
      "Address of self =  2558106126416\n",
      "Address of class object =  2558106126416\n"
     ]
    }
   ],
   "source": [
    "class check:\n",
    "    def __init__(self):\n",
    "        print(\"Address of self = \",id(self))\n",
    "  \n",
    "obj = check()\n",
    "print(\"Address of class object = \",id(obj))\n",
    "  "
   ]
  },
  {
   "cell_type": "markdown",
   "id": "f8e01d1e",
   "metadata": {},
   "source": [
    "#### Q5. What is inheritance? Give an example for each type of inheritance."
   ]
  },
  {
   "cell_type": "markdown",
   "id": "714cec5c",
   "metadata": {},
   "source": [
    "Inheritance is a mechanism of driving a new class from an existing class. The existing (old) class is known as base class or super class or parent class.<br>\n",
    "The new class is known as a derived class or sub class or child class. It allows us to use the properties and behavior of one class (parent) in another<br>\n",
    "class (child).\n",
    "\n",
    "A class whose properties are inherited is known as parent class and a class that inherits the properties of the parent class is known as child class.<br>\n",
    "Thus, it establishes a relationship between parent and child class that is known as parent-child or Is-a relationship. <br>\n",
    "types: <br>\n",
    "    1. Single Inheritance<br> \n",
    "    2. Multi-level Inheritance<br> \n",
    "    3. Hierarchical Inheritance <br>\n",
    "    4. Hybrid Inheritance <br>\n",
    "    Single Inheritance: Single inheritance enables a derived class to inherit properties from a single parent class, thus enabling code reusability and the addition of new features to existing code. <br>\n",
    "    Multiple Inheritance: When a class can be derived from more than one base class this type of inheritance is called multiple inheritances. <br>\n",
    "    In multiple inheritances, all the features of the base classes are inherited into the derived class.<br> \n",
    "    Multi-level Inheritance: In multilevel inheritance, features of the base class and the derived class are further inherited into the new derived class.<br>\n",
    "    This is similar to a relationship representing a child and a grandfather.<br>\n",
    "    Hierarchical Inheritance: When more than one derived class are created from a single base this type of inheritance is called hierarchical inheritance.<br>\n",
    "    In this program, we have a parent (base) class and two child (derived) classes.<br>\n",
    "    Hybrid Inheritance: Inheritance consisting of multiple types of inheritance is called hybrid inheritance."
   ]
  },
  {
   "cell_type": "code",
   "execution_count": 7,
   "id": "de53160c",
   "metadata": {},
   "outputs": [
    {
     "name": "stdout",
     "output_type": "stream",
     "text": [
      "This function is in parent class.\n",
      "This function is in child class.\n"
     ]
    }
   ],
   "source": [
    "class Parent:\n",
    "    def func1(self):\n",
    "        print(\"This function is in parent class.\")\n",
    " \n",
    "# Derived class\n",
    " \n",
    " \n",
    "class Child(Parent):\n",
    "    def func2(self):\n",
    "        print(\"This function is in child class.\")\n",
    " \n",
    " \n",
    "# Driver's code\n",
    "object = Child()\n",
    "object.func1()\n",
    "object.func2()"
   ]
  },
  {
   "cell_type": "code",
   "execution_count": 8,
   "id": "f9683098",
   "metadata": {},
   "outputs": [
    {
     "name": "stdout",
     "output_type": "stream",
     "text": [
      "Father : RAM\n",
      "Mother : SITA\n"
     ]
    }
   ],
   "source": [
    "# multiple inheritance\n",
    " \n",
    "class Mother:\n",
    "    mothername = \"\"\n",
    " \n",
    "    def mother(self):\n",
    "        print(self.mothername)\n",
    " \n",
    "# Base class2\n",
    " \n",
    " \n",
    "class Father:\n",
    "    fathername = \"\"\n",
    " \n",
    "    def father(self):\n",
    "        print(self.fathername)\n",
    " \n",
    "# Derived class\n",
    " \n",
    " \n",
    "class Son(Mother, Father):\n",
    "    def parents(self):\n",
    "        print(\"Father :\", self.fathername)\n",
    "        print(\"Mother :\", self.mothername)\n",
    " \n",
    " \n",
    "# Driver's code\n",
    "s1 = Son()\n",
    "s1.fathername = \"RAM\"\n",
    "s1.mothername = \"SITA\"\n",
    "s1.parents()"
   ]
  },
  {
   "cell_type": "code",
   "execution_count": 9,
   "id": "a49478d1",
   "metadata": {},
   "outputs": [
    {
     "name": "stdout",
     "output_type": "stream",
     "text": [
      "santhanu\n",
      "Grandfather name : santhanu\n",
      "Father name : ganga\n",
      "Son name : bheeshma\n"
     ]
    }
   ],
   "source": [
    "# multilevel inheritance\n",
    " \n",
    "class Grandfather:\n",
    " \n",
    "    def __init__(self, grandfathername):\n",
    "        self.grandfathername = grandfathername\n",
    " \n",
    "# Intermediate class\n",
    " \n",
    " \n",
    "class Father(Grandfather):\n",
    "    def __init__(self, fathername, grandfathername):\n",
    "        self.fathername = fathername\n",
    " \n",
    "        # invoking constructor of Grandfather class\n",
    "        Grandfather.__init__(self, grandfathername)\n",
    " \n",
    "# Derived class\n",
    " \n",
    " \n",
    "class Son(Father):\n",
    "    def __init__(self, sonname, fathername, grandfathername):\n",
    "        self.sonname = sonname\n",
    " \n",
    "        # invoking constructor of Father class\n",
    "        Father.__init__(self, fathername, grandfathername)\n",
    " \n",
    "    def print_name(self):\n",
    "        print('Grandfather name :', self.grandfathername)\n",
    "        print(\"Father name :\", self.fathername)\n",
    "        print(\"Son name :\", self.sonname)\n",
    " \n",
    " \n",
    "#  Driver code\n",
    "s1 = Son('bheeshma', 'ganga', 'santhanu')\n",
    "print(s1.grandfathername)\n",
    "s1.print_name()"
   ]
  },
  {
   "cell_type": "code",
   "execution_count": 10,
   "id": "14e5c6b9",
   "metadata": {},
   "outputs": [
    {
     "name": "stdout",
     "output_type": "stream",
     "text": [
      "This function is in parent class.\n",
      "This function is in child 1.\n",
      "This function is in parent class.\n",
      "This function is in child 2.\n"
     ]
    }
   ],
   "source": [
    "# Hierarchical inheritance\n",
    "class Parent:\n",
    "    def func1(self):\n",
    "        print(\"This function is in parent class.\")\n",
    " \n",
    "# Derived class1\n",
    " \n",
    " \n",
    "class Child1(Parent):\n",
    "    def func2(self):\n",
    "        print(\"This function is in child 1.\")\n",
    " \n",
    "# Derivied class2\n",
    " \n",
    " \n",
    "class Child2(Parent):\n",
    "    def func3(self):\n",
    "        print(\"This function is in child 2.\")\n",
    " \n",
    " \n",
    "# Driver's code\n",
    "object1 = Child1()\n",
    "object2 = Child2()\n",
    "object1.func1()\n",
    "object1.func2()\n",
    "object2.func1()\n",
    "object2.func3()"
   ]
  },
  {
   "cell_type": "code",
   "execution_count": 11,
   "id": "fbef425f",
   "metadata": {},
   "outputs": [
    {
     "name": "stdout",
     "output_type": "stream",
     "text": [
      "This function is in school.\n",
      "This function is in student 1. \n"
     ]
    }
   ],
   "source": [
    "# hybrid inheritance\n",
    " \n",
    " \n",
    "class School:\n",
    "    def func1(self):\n",
    "        print(\"This function is in school.\")\n",
    " \n",
    " \n",
    "class Student1(School):\n",
    "    def func2(self):\n",
    "        print(\"This function is in student 1. \")\n",
    " \n",
    " \n",
    "class Student2(School):\n",
    "    def func3(self):\n",
    "        print(\"This function is in student 2.\")\n",
    " \n",
    " \n",
    "class Student3(Student1, School):\n",
    "    def func4(self):\n",
    "        print(\"This function is in student 3.\")\n",
    " \n",
    " \n",
    "# Driver's code\n",
    "object = Student3()\n",
    "object.func1()\n",
    "object.func2()"
   ]
  }
 ],
 "metadata": {
  "kernelspec": {
   "display_name": "Python 3 (ipykernel)",
   "language": "python",
   "name": "python3"
  },
  "language_info": {
   "codemirror_mode": {
    "name": "ipython",
    "version": 3
   },
   "file_extension": ".py",
   "mimetype": "text/x-python",
   "name": "python",
   "nbconvert_exporter": "python",
   "pygments_lexer": "ipython3",
   "version": "3.9.12"
  }
 },
 "nbformat": 4,
 "nbformat_minor": 5
}
