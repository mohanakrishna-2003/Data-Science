{
 "cells": [
  {
   "cell_type": "markdown",
   "id": "c49ba1c2",
   "metadata": {},
   "source": [
    "## 06_FEB_ASSIGNMENT"
   ]
  },
  {
   "cell_type": "markdown",
   "id": "29b5735a",
   "metadata": {},
   "source": [
    "## PWSKILLS ASSIGNMENT - 7"
   ]
  },
  {
   "cell_type": "markdown",
   "id": "98e80d51",
   "metadata": {},
   "source": [
    "#### Q1. Create a function which will take a list as an argument and return the product of all the numbers after creating a flat list.\n",
    "#### Use the below-given list as an argument for your function.\n",
    "#### list1 = [1,2,3,4, [44,55,66, True], False, (34,56,78,89,34), {1,2,3,3,2,1}, {1:34, \"key2\": [55, 67, 78, 89], 4: (45,\n",
    "#### 22, 61, 34)}, [56, 'data science'], 'Machine Learning']\n",
    "#### Note: you must extract numeric keys and values of the dictionary also."
   ]
  },
  {
   "cell_type": "code",
   "execution_count": 1,
   "id": "4729f39a",
   "metadata": {},
   "outputs": [
    {
     "name": "stdout",
     "output_type": "stream",
     "text": [
      "(4134711838987085478833841242112000, [1, 2, 3, 4, 44, 55, 66, 34, 56, 78, 89, 34, 1, 2, 3, 1, 4, 34, 55, 67, 78, 89, 45, 22, 61, 34, 56])\n"
     ]
    }
   ],
   "source": [
    "from functools import reduce\n",
    "def func(l):\n",
    "    lst = []\n",
    "    for i in l:\n",
    "        if type(i) == int:\n",
    "            lst.append(i)\n",
    "        elif type(i) == list or type(i) == tuple or type(i) == set:\n",
    "            for j in i:\n",
    "                if type(j) == int:\n",
    "                    lst.append(j)\n",
    "        elif type(i) == dict:\n",
    "            for k in i.keys():\n",
    "                if type(k) == int:\n",
    "                    lst.append(k)\n",
    "            for m in i.values():\n",
    "                if type(m) == int:\n",
    "                    lst.append(m)\n",
    "                elif type(m) == list or type(m) == tuple or type(m) == set:\n",
    "                    for n in m:\n",
    "                        if type(n) == int:\n",
    "                            lst.append(n)\n",
    "                            \n",
    "    ans = reduce(lambda x,y: x*y,lst)\n",
    "    return ans ,lst\n",
    "k=func( [1,2,3,4, [44,55,66, True], False, (34,56,78,89,34), {1,2,3,3,2,1}, {1:34, \"key2\": [55, 67, 78, 89], 4: (45, 22, 61, 34)}, [56, 'data science'], 'Machine Learning'])\n",
    "\n",
    "print(k)"
   ]
  },
  {
   "cell_type": "markdown",
   "id": "dac0205e",
   "metadata": {},
   "source": [
    "#### Q2. Write a python program for encrypting a message sent to you by your friend. The logic of encryption\n",
    "#### should be such that, for a the output should be z. For b, the output should be y. For c, the output should\n",
    "#### be x respectively. Also, the whitespace should be replaced with a dollar sign. Keep the punctuation\n",
    "#### marks unchanged.\n",
    "#### Input Sentence: I want to become a Data Scientist.\n",
    "#### Encrypt the above input sentence using the program you just created.\n",
    "#### Note: Convert the given input sentence into lowercase before encrypting. The final output should be lowercase."
   ]
  },
  {
   "cell_type": "code",
   "execution_count": 2,
   "id": "9577b0aa",
   "metadata": {},
   "outputs": [
    {
     "name": "stdout",
     "output_type": "stream",
     "text": [
      "i$wznt$to$yexome$z$dztz$sxientist\n"
     ]
    }
   ],
   "source": [
    "s=\"I want to become a Data Scientist\"\n",
    "def en(s):\n",
    "    dictionary = {\"a\":\"z\",\"b\":\"y\",\"c\":\"x\",\" \":\"$\" }\n",
    "    for i in dictionary.keys():\n",
    "        s = s.replace(i, dictionary[i])\n",
    "    return s\n",
    "s=\"I want to become a Data Scientist\"\n",
    "s=s.lower()\n",
    "print(en(s))\n",
    "\n"
   ]
  },
  {
   "cell_type": "code",
   "execution_count": null,
   "id": "26ba1503",
   "metadata": {},
   "outputs": [],
   "source": []
  },
  {
   "cell_type": "code",
   "execution_count": null,
   "id": "d951d4b4",
   "metadata": {},
   "outputs": [],
   "source": []
  },
  {
   "cell_type": "code",
   "execution_count": null,
   "id": "f0669833",
   "metadata": {},
   "outputs": [],
   "source": []
  },
  {
   "cell_type": "code",
   "execution_count": null,
   "id": "a4c4dcb2",
   "metadata": {},
   "outputs": [],
   "source": []
  }
 ],
 "metadata": {
  "kernelspec": {
   "display_name": "Python 3 (ipykernel)",
   "language": "python",
   "name": "python3"
  },
  "language_info": {
   "codemirror_mode": {
    "name": "ipython",
    "version": 3
   },
   "file_extension": ".py",
   "mimetype": "text/x-python",
   "name": "python",
   "nbconvert_exporter": "python",
   "pygments_lexer": "ipython3",
   "version": "3.9.12"
  }
 },
 "nbformat": 4,
 "nbformat_minor": 5
}
