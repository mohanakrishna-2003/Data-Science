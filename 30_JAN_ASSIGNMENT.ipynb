{
 "cells": [
  {
   "cell_type": "markdown",
   "id": "6233fa07",
   "metadata": {},
   "source": [
    "#  30/01/2023  ASSIGNMENT"
   ]
  },
  {
   "cell_type": "markdown",
   "id": "7039fe51",
   "metadata": {},
   "source": [
    "## PWSKILLS ASSIGNMENT - 2"
   ]
  },
  {
   "cell_type": "markdown",
   "id": "d02a357d",
   "metadata": {},
   "source": [
    "### Question - 1"
   ]
  },
  {
   "cell_type": "code",
   "execution_count": null,
   "id": "f13dc2e9",
   "metadata": {},
   "outputs": [],
   "source": [
    "grade = float(input(\"Enter your percentage:\" ))\n",
    "if grade > 90:\n",
    "    print(\"A\")\n",
    "elif grade > 80 and grade <= 90 :\n",
    "    print(\"B\")\n",
    "elif grade >= 60 and grade <=80 :\n",
    "    print(\"C\")\n",
    "else :\n",
    "    print(\"D\")\n"
   ]
  },
  {
   "cell_type": "markdown",
   "id": "4a987222",
   "metadata": {},
   "source": [
    "### Question - 2"
   ]
  },
  {
   "cell_type": "code",
   "execution_count": null,
   "id": "fcada412",
   "metadata": {},
   "outputs": [],
   "source": [
    "cost_price = int(input(\"Enter the cost price of the bike:\"))\n",
    "if cost_price > 100000 :\n",
    "    print(0.15*cost_price)\n",
    "elif cost_price > 50000 and cost_price <= 100000 :\n",
    "    print(0.10*cost_price)\n",
    "else :\n",
    "    print(0.05*cost_price)"
   ]
  },
  {
   "cell_type": "markdown",
   "id": "8d6b2bfa",
   "metadata": {},
   "source": [
    "### Question - 3"
   ]
  },
  {
   "cell_type": "code",
   "execution_count": null,
   "id": "bffaaec4",
   "metadata": {},
   "outputs": [],
   "source": [
    "city = input(\"Enter the city name :\")\n",
    "if city == \"Delhi\":\n",
    "    print(\"Red Fort\")\n",
    "elif city == \"Agra\":\n",
    "    print(\"Taj Mahal\")\n",
    "elif city == \"Jaipur\" :\n",
    "    print(\"Jal Mahal\")"
   ]
  },
  {
   "cell_type": "markdown",
   "id": "bee93b07",
   "metadata": {},
   "source": [
    "### Question - 4"
   ]
  },
  {
   "cell_type": "code",
   "execution_count": null,
   "id": "92fb630f",
   "metadata": {},
   "outputs": [],
   "source": [
    "num = int(input(\"Enter the number:\"))\n",
    "count = 0\n",
    "if num > 0 and num <=10:\n",
    "\twhile num >0:\n",
    "    \tif num%3 == 0:\n",
    "        \tcount=count+1\n",
    "    \telse:\n",
    "        \tpass\n",
    "    \tnum = num//3\n",
    "print(count)"
   ]
  },
  {
   "cell_type": "markdown",
   "id": "41ecc252",
   "metadata": {},
   "source": [
    "### Question - 5"
   ]
  },
  {
   "cell_type": "markdown",
   "id": "b4128a0f",
   "metadata": {},
   "source": [
    "Python while loop is used to run a block code until a certain condition is met.<br> \n",
    "Here, A while loop evaluates the condition.<br> \n",
    "If the condition evaluates to True , the code inside the while loop is executed.\n",
    "A while loop evaluates the condition.<br>\n",
    "If the condition evaluates to True, the code inside the while loop is executed.\n",
    "condition is evaluated again.<br>\n",
    "This process continues until the condition is False.<br>\n",
    "When condition evaluates to False, the loop stops."
   ]
  },
  {
   "cell_type": "markdown",
   "id": "22ca4e85",
   "metadata": {},
   "source": [
    "while condition:\n",
    "    # body of while loop\n",
    "program to display numbers from 1 to 5\n",
    "\n",
    " initialize the variable\n",
    "i = 1\n",
    "n = 5\n",
    "\n",
    " while loop from i = 1 to 5\n",
    "while i <= n:\n",
    "    print(i)\n",
    "    i = i + 1\n",
    "#example 2:\n",
    "total = 0\n",
    "\n",
    "number = int(input('Enter a number: '))\n",
    "\n",
    " add numbers until number is zero\n",
    "while number != 0:\n",
    "    total += number    # total = total + number\n",
    "    \n",
    "    # take integer input again\n",
    "    number = int(input('Enter a number: '))\n",
    "    \n",
    "\n",
    "print('total =', total)\n",
    "#example 3\n",
    "age = 32\n",
    "\n",
    "the test condition is always True\n",
    "while age > 18:\n",
    "    print('You can vote')"
   ]
  },
  {
   "cell_type": "code",
   "execution_count": null,
   "id": "167291c0",
   "metadata": {},
   "outputs": [],
   "source": [
    "# Example:\n",
    "\n",
    "while i<=10:\n",
    "    print(i)"
   ]
  },
  {
   "cell_type": "markdown",
   "id": "4cbee950",
   "metadata": {},
   "source": [
    "### Question - 6"
   ]
  },
  {
   "cell_type": "markdown",
   "id": "0d16dcfe",
   "metadata": {},
   "source": [
    "##### Pattern - 1"
   ]
  },
  {
   "cell_type": "code",
   "execution_count": null,
   "id": "583bc601",
   "metadata": {},
   "outputs": [],
   "source": [
    "rows = 5\n",
    "i = 1\n",
    "while i<=rows :\n",
    "    j=1\n",
    "    while j<=i:\n",
    "        print((i * 2 - 1),end=\" \")\n",
    "        j=j+1\n",
    "    i=i+1\n",
    "    print('')"
   ]
  },
  {
   "cell_type": "markdown",
   "id": "1a086408",
   "metadata": {},
   "source": [
    "##### Pattern - 2"
   ]
  },
  {
   "cell_type": "code",
   "execution_count": null,
   "id": "e4917eef",
   "metadata": {},
   "outputs": [],
   "source": [
    "rows = 5\n",
    "i = rows\n",
    "while i >= 1:\n",
    "    j = rows\n",
    "    while j > i:\n",
    "        print(' ', end=' ')\n",
    "        j -= 1\n",
    "    k = 1\n",
    "    while k <= i:\n",
    "        print('*', end=' ')\n",
    "        k += 1\n",
    "    print()\n",
    "    i -= 1"
   ]
  },
  {
   "cell_type": "markdown",
   "id": "574ec114",
   "metadata": {},
   "source": [
    "##### Pattern - 3"
   ]
  },
  {
   "cell_type": "code",
   "execution_count": null,
   "id": "e2e0a0de",
   "metadata": {},
   "outputs": [],
   "source": [
    "rows = 14\n",
    "print(\"*\" * rows, end=\"\\n\")\n",
    "i = (rows // 2) - 1\n",
    "j = 2\n",
    "while i != 0:\n",
    "    while j <= (rows - 2):\n",
    "        print(\"*\" * i, end=\"\")\n",
    "        print(\"_\" * j, end=\"\")\n",
    "        print(\"*\" * i, end=\"\\n\")\n",
    "        i = i - 1\n",
    "        j = j + 2"
   ]
  },
  {
   "cell_type": "markdown",
   "id": "bf76fb65",
   "metadata": {},
   "source": [
    "### Question - 7"
   ]
  },
  {
   "cell_type": "code",
   "execution_count": null,
   "id": "156df982",
   "metadata": {},
   "outputs": [],
   "source": [
    "i = 10\n",
    "while i>=1:\n",
    "    print(i)\n",
    "    i = i-1"
   ]
  },
  {
   "cell_type": "markdown",
   "id": "f9b714f9",
   "metadata": {},
   "source": [
    "### Question - 8"
   ]
  },
  {
   "cell_type": "code",
   "execution_count": null,
   "id": "0b1021b6",
   "metadata": {},
   "outputs": [],
   "source": [
    "i = 10\n",
    "while i>=1:\n",
    "    print(i)\n",
    "    i = i-1"
   ]
  }
 ],
 "metadata": {
  "kernelspec": {
   "display_name": "Python 3 (ipykernel)",
   "language": "python",
   "name": "python3"
  },
  "language_info": {
   "codemirror_mode": {
    "name": "ipython",
    "version": 3
   },
   "file_extension": ".py",
   "mimetype": "text/x-python",
   "name": "python",
   "nbconvert_exporter": "python",
   "pygments_lexer": "ipython3",
   "version": "3.9.12"
  }
 },
 "nbformat": 4,
 "nbformat_minor": 5
}
