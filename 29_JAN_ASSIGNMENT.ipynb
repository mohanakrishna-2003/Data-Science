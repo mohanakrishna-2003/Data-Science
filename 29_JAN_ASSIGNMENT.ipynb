{
 "cells": [
  {
   "cell_type": "markdown",
   "id": "2d98bd42",
   "metadata": {},
   "source": [
    "## 29/01/2023 ASSIGNMENT"
   ]
  },
  {
   "cell_type": "markdown",
   "id": "1aac00c5",
   "metadata": {},
   "source": [
    "### PW SKILLS ASSIGNMENT - 1"
   ]
  },
  {
   "cell_type": "markdown",
   "id": "da7142fa",
   "metadata": {},
   "source": [
    "##### 1. Who developed Python programming Language?"
   ]
  },
  {
   "cell_type": "markdown",
   "id": "865bd6b6",
   "metadata": {},
   "source": [
    "The famous Python Programming Language was developed the scientist Guido van Rossum and released in 1991."
   ]
  },
  {
   "cell_type": "markdown",
   "id": "88492bb0",
   "metadata": {},
   "source": [
    "#### 2.Which type of programming does python support?"
   ]
  },
  {
   "cell_type": "markdown",
   "id": "83cafb46",
   "metadata": {},
   "source": [
    "Python is a multi-paradigm programming language.It supports the following programming features:<br>\n",
    "    1.Object-Oriented Programming<br>\n",
    "    2.Structured Programming<br>\n",
    "Along with the above mentioned many of it features support<br>\n",
    "\t1.Functional Programming<br>\n",
    "    2.Aspect-Oriented Programming<br>"
   ]
  },
  {
   "cell_type": "markdown",
   "id": "266112bd",
   "metadata": {},
   "source": [
    "#### 3.Is python case sensitive when dealing with identifiers?"
   ]
  },
  {
   "cell_type": "markdown",
   "id": "f013632a",
   "metadata": {},
   "source": [
    "Yes,python is case-sensitive it treats the upper-case and lower-case letters differently and this applies to identifiers too.<br>\n",
    "You must avoid using the same name with different cases while naming identifiers."
   ]
  },
  {
   "cell_type": "markdown",
   "id": "4ecaa30a",
   "metadata": {},
   "source": [
    "#### 4.what is the correct extension of the python file?"
   ]
  },
  {
   "cell_type": "markdown",
   "id": "78cc8a80",
   "metadata": {},
   "source": [
    "Python is a general purpose language and it has more than 1 extension.<br>\n",
    "They are <br>\n",
    "\t1. .py<br>\n",
    "    2. .pyi<br>\n",
    "    3. .pyc<br>\n",
    "    4. .pyd<br>\n",
    "    5. .pyo<br>\n",
    "    6. .pyw<br>\n",
    "    7. .pyz<br>"
   ]
  },
  {
   "cell_type": "markdown",
   "id": "6a4ff1a5",
   "metadata": {},
   "source": [
    "#### 5. Is python code compiled or interpreted? "
   ]
  },
  {
   "cell_type": "markdown",
   "id": "c3fb8dfe",
   "metadata": {},
   "source": [
    "Python is an interpreted language, which means the source code of a Python program is <br>\n",
    "converted into bytecode that is then executed by the Python virtual machine."
   ]
  },
  {
   "cell_type": "markdown",
   "id": "05fa2403",
   "metadata": {},
   "source": [
    "#### 6.Name a few blocks of code used to define in python language?"
   ]
  },
  {
   "cell_type": "markdown",
   "id": "9e5078ca",
   "metadata": {},
   "source": [
    "A Module, a Function body, and a Class definition are the blocks need to be defined in python language.<br>\n",
    "Intendation highlights the block of code."
   ]
  },
  {
   "cell_type": "markdown",
   "id": "3908235c",
   "metadata": {},
   "source": [
    "#### 7.State a character used to give single-line comments in python?"
   ]
  },
  {
   "cell_type": "markdown",
   "id": "bf7038c6",
   "metadata": {},
   "source": [
    "Hash character(#) is used to comment the line in the Python program.<br>\n",
    "Comments does not have to be text to explain the code, it can also be used to prevent Python from executing code."
   ]
  },
  {
   "cell_type": "markdown",
   "id": "1e3ee4e6",
   "metadata": {},
   "source": [
    "#### 8.Mention functions which can help us to find the version of python that we are currently working on?"
   ]
  },
  {
   "cell_type": "markdown",
   "id": "ba3074a8",
   "metadata": {},
   "source": [
    "The command sys.version can help us to find the version of the python that we are currently working on."
   ]
  },
  {
   "cell_type": "markdown",
   "id": "c8450fc2",
   "metadata": {},
   "source": [
    "#### 9.Python supports the creation of anonymous functions at runtime using a construct called?"
   ]
  },
  {
   "cell_type": "markdown",
   "id": "3e5ba382",
   "metadata": {},
   "source": [
    "Python supports the creation of anonymous functions (i.e. functions that are not bound to a name) at runtime, using a construct called lambda.<br>\n",
    "Lambda functions are restricted to a single expression. They can be used wherever normal functions can be used."
   ]
  },
  {
   "cell_type": "markdown",
   "id": "c902f3de",
   "metadata": {},
   "source": [
    "#### 10.What does pip stand for python?"
   ]
  },
  {
   "cell_type": "markdown",
   "id": "39ef1d43",
   "metadata": {},
   "source": [
    "PIP stands for \"Preferred Installer Program\".<br>\n",
    "It is used to install the necessary program or module."
   ]
  },
  {
   "cell_type": "markdown",
   "id": "fe64611f",
   "metadata": {},
   "source": [
    "#### 11.Mention a few built—in functions in python?\n"
   ]
  },
  {
   "cell_type": "markdown",
   "id": "f31da91b",
   "metadata": {},
   "source": [
    "The Python has huge advantage of posessing many in-built functions.<br>\n",
    "Some of the functions are:<br>\n",
    "    1.print()<br>\n",
    "    2.type()<br>\n",
    "    3.input()<br>\n",
    "    4.abs()<br>\n",
    "    5.pow()<br>\n",
    "    6.dir() ..etc"
   ]
  },
  {
   "cell_type": "markdown",
   "id": "6260b050",
   "metadata": {},
   "source": [
    "#### 12. What is the maximum possible length of an identifier in Python?"
   ]
  },
  {
   "cell_type": "markdown",
   "id": "d3af4bdb",
   "metadata": {},
   "source": [
    "The maximum possible length of an identifer in python is 79 characters."
   ]
  },
  {
   "cell_type": "markdown",
   "id": "45c0cea9",
   "metadata": {},
   "source": [
    "#### 13.What are the benefits of using Python?"
   ]
  },
  {
   "cell_type": "markdown",
   "id": "eea6a0c7",
   "metadata": {},
   "source": [
    "It supports many domains of computing like <br>\n",
    "\t1.DataScience<br>\n",
    "    2.Scientific and mathematical computing<br>\n",
    "    3.Web development<br>\n",
    "    4.Computer graphics<br>\n",
    "\t5.Basic game development<br>\n",
    "\t6.Security and penetration testing ..etc<br>\n",
    "    It also has many built-in modules and functions,it is user friendly<br>"
   ]
  },
  {
   "cell_type": "markdown",
   "id": "7e2a7e1d",
   "metadata": {},
   "source": [
    "#### 14.How is memory managed in Python?"
   ]
  },
  {
   "cell_type": "markdown",
   "id": "5249a24b",
   "metadata": {},
   "source": [
    "Memory in Python is managed by Python private heap space. All Python objects and data structures are located in a private heap.<br> This private heap is taken care of by Python Interpreter itself, and a programmer doesn't have access to this private heap."
   ]
  },
  {
   "cell_type": "markdown",
   "id": "1df69f9d",
   "metadata": {},
   "source": [
    "#### 15.How to install Python on Windows and set path variables?"
   ]
  },
  {
   "cell_type": "markdown",
   "id": "bd2d3fca",
   "metadata": {},
   "source": [
    "Open a browser to the Python website and download the Windows installer.<br>\n",
    "Double click on the downloaded file and install Python for all users, in the section entitled User Variables, double-click on the entry that says Path.<br>\n",
    "Another window will pop up showing a list of paths. Click the New button and paste the path to your Python executable there.<br>\n",
    "Once that's inserted, select your newly added path and click the Move Up button until it's at the top."
   ]
  },
  {
   "cell_type": "markdown",
   "id": "19127f4c",
   "metadata": {},
   "source": [
    "#### 16.Is indentation required in python?"
   ]
  },
  {
   "cell_type": "markdown",
   "id": "df100552",
   "metadata": {},
   "source": [
    "Indentation refers to the spaces at the beginning of a code line.<br> \n",
    "Where in other programming languages the indentation in code is for readability only, the indentation in Python is very important.<br>\n",
    "Python uses indentation to indicate a block of code."
   ]
  }
 ],
 "metadata": {
  "kernelspec": {
   "display_name": "Python 3 (ipykernel)",
   "language": "python",
   "name": "python3"
  },
  "language_info": {
   "codemirror_mode": {
    "name": "ipython",
    "version": 3
   },
   "file_extension": ".py",
   "mimetype": "text/x-python",
   "name": "python",
   "nbconvert_exporter": "python",
   "pygments_lexer": "ipython3",
   "version": "3.9.12"
  }
 },
 "nbformat": 4,
 "nbformat_minor": 5
}
